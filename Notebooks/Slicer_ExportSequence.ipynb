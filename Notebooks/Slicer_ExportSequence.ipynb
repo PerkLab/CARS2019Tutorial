{
 "cells": [
  {
   "cell_type": "code",
   "execution_count": 23,
   "metadata": {},
   "outputs": [
    {
     "data": {
      "text/plain": []
     },
     "execution_count": 23,
     "metadata": {},
     "output_type": "execute_result"
    }
   ],
   "source": [
    "import os\n",
    "import cv2\n",
    "import numpy as np"
   ]
  },
  {
   "cell_type": "code",
   "execution_count": 24,
   "metadata": {},
   "outputs": [
    {
     "data": {
      "text/plain": [
       "Created folder: c:\\Users\\tamas\\LettersTraining\\None\n",
       "Created folder: c:\\Users\\tamas\\LettersTesting\\None\n"
      ]
     },
     "execution_count": 24,
     "metadata": {},
     "output_type": "execute_result"
    }
   ],
   "source": [
    "browser_name = \"LetterNone\"\n",
    "output_training_folder = r\"c:\\Users\\tamas\\LettersTraining\\None\"\n",
    "output_testing_folder = r\"c:\\Users\\tamas\\LettersTesting\\None\"\n",
    "image_name = \"Video_Video\"\n",
    "name_prefix = \"letters_\"\n",
    "\n",
    "test_split_ratio = 0.05\n",
    "shuffle_test = False\n",
    "\n",
    "if not os.path.exists(output_training_folder):\n",
    "    os.makedirs(output_training_folder)\n",
    "    print(\"Created folder: \" + output_training_folder)\n",
    "\n",
    "if not os.path.exists(output_testing_folder):\n",
    "    os.makedirs(output_testing_folder)\n",
    "    print(\"Created folder: \" + output_testing_folder)"
   ]
  },
  {
   "cell_type": "code",
   "execution_count": 25,
   "metadata": {},
   "outputs": [
    {
     "data": {
      "text/plain": [
       "Number of images in browser: 887\n"
      ]
     },
     "execution_count": 25,
     "metadata": {},
     "output_type": "execute_result"
    }
   ],
   "source": [
    "# Make sure input sequence browser and video exists\n",
    "\n",
    "browser_node = slicer.util.getFirstNodeByName(browser_name, className='vtkMRMLSequenceBrowserNode')\n",
    "if browser_node is None:\n",
    "    logging.error(\"Could not find browser node: {}\".format(browser_name))\n",
    "    raise\n",
    "\n",
    "image_node = slicer.util.getFirstNodeByName(image_name)\n",
    "if image_node is None:\n",
    "    logging.error(\"Could not find image node: {}\".format(image_name))\n",
    "    raise\n",
    "\n",
    "n = browser_node.GetNumberOfItems()\n",
    "\n",
    "print(\"Number of images in browser: {}\".format(n))"
   ]
  },
  {
   "cell_type": "code",
   "execution_count": 26,
   "metadata": {},
   "outputs": [
    {
     "data": {
      "text/plain": [
       "Exported 44 image in c:\\Users\\tamas\\LettersTesting\\None\n",
       "Exported 843 image in c:\\Users\\tamas\\LettersTraining\\None\n"
      ]
     },
     "execution_count": 26,
     "metadata": {},
     "output_type": "execute_result"
    }
   ],
   "source": [
    "# Prepare test image indices\n",
    "\n",
    "n_test = int(n * test_split_ratio)\n",
    "all_indices = range(n)\n",
    "if shuffle_test:\n",
    "    test_indices = np.random.choice(all_indices, n_test)\n",
    "else:\n",
    "    test_indices = range(n_test)\n",
    "\n",
    "browser_node.SelectFirstItem()\n",
    "\n",
    "for i in range(n):\n",
    "    image = image_node.GetImageData()\n",
    "    shape = list(image.GetDimensions())\n",
    "    shape.reverse()\n",
    "    components = image.GetNumberOfScalarComponents()\n",
    "    if components > 1:\n",
    "        shape.append(components)\n",
    "        shape.remove(1)\n",
    "    image_array = vtk.util.numpy_support.vtk_to_numpy(image.GetPointData().GetScalars()).reshape(shape)\n",
    "    image_name = name_prefix + \"%04d\" % i + \".png\"\n",
    "    if i in test_indices:\n",
    "        image_fullname = os.path.join(output_testing_folder, image_name)\n",
    "    else:\n",
    "        image_fullname = os.path.join(output_training_folder, image_name)\n",
    "    image_brg = cv2.cvtColor(image_array, cv2.COLOR_RGB2BGR)\n",
    "    cv2.imwrite(image_fullname, image_brg)\n",
    "    browser_node.SelectNextItem()\n",
    "    slicer.app.processEvents()\n",
    "\n",
    "print(\"Exported {} image in {}\".format(n_test, output_testing_folder))\n",
    "print(\"Exported {} image in {}\".format((n-n_test), output_training_folder))"
   ]
  },
  {
   "cell_type": "code",
   "execution_count": null,
   "metadata": {},
   "outputs": [],
   "source": []
  }
 ],
 "metadata": {
  "kernelspec": {
   "display_name": "Slicer 4.11",
   "language": "python",
   "name": "slicer-4.11"
  },
  "language_info": {
   "codemirror_mode": {
    "name": "ipython",
    "version": 3
   },
   "file_extension": ".py",
   "mimetype": "text/x-python",
   "name": "python",
   "nbconvert_exporter": "python",
   "pygments_lexer": "ipython3",
   "version": "2.7.13+"
  }
 },
 "nbformat": 4,
 "nbformat_minor": 2
}
