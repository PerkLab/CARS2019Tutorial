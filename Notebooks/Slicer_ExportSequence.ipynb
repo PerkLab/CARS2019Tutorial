{
 "cells": [
  {
   "cell_type": "code",
   "execution_count": 1,
   "metadata": {},
   "outputs": [
    {
     "data": {
      "text/plain": []
     },
     "execution_count": 1,
     "metadata": {},
     "output_type": "execute_result"
    }
   ],
   "source": [
    "import os\n",
    "\n",
    "import cv2"
   ]
  },
  {
   "cell_type": "code",
   "execution_count": 3,
   "metadata": {},
   "outputs": [
    {
     "data": {
      "text/plain": []
     },
     "execution_count": 3,
     "metadata": {},
     "output_type": "execute_result"
    }
   ],
   "source": [
    "browser_name = \"SequenceBrowser\"\n",
    "output_folder = r\"J:\\Temp\"\n",
    "image_name = \"Video_Video\"\n",
    "name_prefix = \"test_\"\n",
    "\n",
    "if not os.path.exists(output_folder):\n",
    "    os.makedirs(output_folder)\n",
    "    print(\"Created folder: \" + export_fullpath)"
   ]
  },
  {
   "cell_type": "code",
   "execution_count": 4,
   "metadata": {},
   "outputs": [
    {
     "data": {
      "text/plain": [
       "Sequence browser ID: vtkMRMLSequenceBrowserNode1\n",
       "Image node ID:       vtkMRMLStreamingVolumeNode1\n",
       "Number of images:    912\n"
      ]
     },
     "execution_count": 4,
     "metadata": {},
     "output_type": "execute_result"
    }
   ],
   "source": [
    "browser_node = slicer.util.getFirstNodeByName(browser_name, className='vtkMRMLSequenceBrowserNode')\n",
    "if browser_node is None:\n",
    "    logging.error(\"Could not find browser node: {}\".format(browser_name))\n",
    "    raise\n",
    "\n",
    "image_node = slicer.util.getFirstNodeByName(image_name)\n",
    "if image_node is None:\n",
    "    logging.error(\"Could not find image node: {}\".format(image_name))\n",
    "    raise\n",
    "\n",
    "n = browser_node.GetNumberOfItems()\n",
    "\n",
    "print(\"Sequence browser ID: {}\".format(browser_node.GetID()))\n",
    "print(\"Image node ID:       {}\".format(image_node.GetID()))\n",
    "print(\"Number of images:    {}\".format(n))"
   ]
  },
  {
   "cell_type": "code",
   "execution_count": 15,
   "metadata": {},
   "outputs": [
    {
     "data": {
      "text/plain": [
       "IntProgress(value=0, max=10)\n",
       "\u001b[2K\r",
       "\u001b[2K\r\n",
       "\u001b[2K\r",
       "\u001b[2K\r",
       "=\n",
       "\u001b[2K\r",
       "\u001b[2K\r",
       "==\n",
       "\u001b[2K\r",
       "\u001b[2K\r",
       "===\n",
       "\u001b[2K\r",
       "\u001b[2K\r",
       "====\n",
       "\u001b[2K\r",
       "\u001b[2K\r",
       "=====\n",
       "\u001b[2K\r",
       "\u001b[2K\r",
       "======\n",
       "\u001b[2K\r",
       "\u001b[2K\r",
       "=======\n",
       "\u001b[2K\r",
       "\u001b[2K\r",
       "========\n",
       "\u001b[2K\r",
       "\u001b[2K\r",
       "=========\n"
      ]
     },
     "execution_count": 15,
     "metadata": {},
     "output_type": "execute_result"
    }
   ],
   "source": [
    "browser_node.SelectFirstItem()\n",
    "\n",
    "n = min(n, 10)\n",
    "for i in range(n):\n",
    "    image = image_node.GetImageData()\n",
    "    shape = list(image.GetDimensions())\n",
    "    shape.reverse()\n",
    "    components = image.GetNumberOfScalarComponents()\n",
    "    if components > 1:\n",
    "        shape.append(components)\n",
    "        shape.remove(1)\n",
    "    image_array = vtk.util.numpy_support.vtk_to_numpy(image.GetPointData().GetScalars()).reshape(shape)\n",
    "    image_name = name_prefix + \"%04d\" % i + \".png\"\n",
    "    image_fullname = os.path.join(output_folder, image_name)\n",
    "    image_brg = cv2.cvtColor(image_array, cv2.COLOR_RGB2BGR)\n",
    "    cv2.imwrite(image_fullname, image_brg)\n",
    "    clear_output(wait = True)\n",
    "    progress_text = \"\"\n",
    "    for j in range(i):\n",
    "        progress_text = progress_text + \"=\"\n",
    "    print(progress_text)\n",
    "    browser_node.SelectNextItem()\n",
    "    slicer.app.processEvents()"
   ]
  },
  {
   "cell_type": "code",
   "execution_count": 14,
   "metadata": {},
   "outputs": [
    {
     "data": {
      "text/plain": [
       "IntProgress(value=0)\n"
      ]
     },
     "execution_count": 14,
     "metadata": {},
     "output_type": "execute_result"
    }
   ],
   "source": [
    "f = IntProgress(min=0, max=100)\n",
    "display(f)"
   ]
  },
  {
   "cell_type": "code",
   "execution_count": 12,
   "metadata": {},
   "outputs": [
    {
     "data": {
      "text/plain": []
     },
     "execution_count": 12,
     "metadata": {},
     "output_type": "execute_result"
    }
   ],
   "source": [
    "f.value = 4"
   ]
  },
  {
   "cell_type": "code",
   "execution_count": null,
   "metadata": {},
   "outputs": [],
   "source": []
  }
 ],
 "metadata": {
  "kernelspec": {
   "display_name": "Slicer 4.11",
   "language": "python",
   "name": "slicer-4.11"
  },
  "language_info": {
   "codemirror_mode": {
    "name": "ipython",
    "version": 3
   },
   "file_extension": ".py",
   "mimetype": "text/x-python",
   "name": "python",
   "nbconvert_exporter": "python",
   "pygments_lexer": "ipython3",
   "version": "2.7.13+"
  }
 },
 "nbformat": 4,
 "nbformat_minor": 2
}
