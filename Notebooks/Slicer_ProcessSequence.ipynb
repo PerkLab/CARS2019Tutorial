{
 "cells": [
  {
   "cell_type": "code",
   "execution_count": 20,
   "metadata": {},
   "outputs": [
    {
     "data": {
      "text/plain": []
     },
     "execution_count": 20,
     "metadata": {},
     "output_type": "execute_result"
    }
   ],
   "source": [
    "import cv2\n",
    "import numpy as np\n",
    "from keras.models import load_model\n",
    "import os"
   ]
  },
  {
   "cell_type": "code",
   "execution_count": 21,
   "metadata": {},
   "outputs": [
    {
     "data": {
      "text/plain": []
     },
     "execution_count": 21,
     "metadata": {},
     "output_type": "execute_result"
    }
   ],
   "source": [
    "browser_name = \"SequenceBrowser\"\n",
    "model_file = r\"j:\\SavedModels\\model_2019-06-11_00-12-58.h5\"\n",
    "image_name = \"Video_Video\"\n",
    "output_folder = r\"j:\\Temp\"\n",
    "\n",
    "classes = ['A', 'C', 'None', 'R', 'S']"
   ]
  },
  {
   "cell_type": "code",
   "execution_count": 22,
   "metadata": {},
   "outputs": [
    {
     "data": {
      "text/plain": [
       "Sequence browser ID: vtkMRMLSequenceBrowserNode1\n",
       "Image node ID:       vtkMRMLStreamingVolumeNode1\n",
       "Number of images:    45\n"
      ]
     },
     "execution_count": 22,
     "metadata": {},
     "output_type": "execute_result"
    }
   ],
   "source": [
    "browser_node = slicer.util.getFirstNodeByName(browser_name, className='vtkMRMLSequenceBrowserNode')\n",
    "if browser_node is None:\n",
    "    logging.error(\"Could not find browser node: {}\".format(browser_name))\n",
    "    raise\n",
    "\n",
    "image_node = slicer.util.getFirstNodeByName(image_name)\n",
    "if image_node is None:\n",
    "    logging.error(\"Could not find image node: {}\".format(image_name))\n",
    "    raise\n",
    "\n",
    "n = browser_node.GetNumberOfItems()\n",
    "\n",
    "print(\"Sequence browser ID: {}\".format(browser_node.GetID()))\n",
    "print(\"Image node ID:       {}\".format(image_node.GetID()))\n",
    "print(\"Number of images:    {}\".format(n))"
   ]
  },
  {
   "cell_type": "code",
   "execution_count": 23,
   "metadata": {},
   "outputs": [
    {
     "data": {
      "text/plain": [
       "Model input size: 64\n"
      ]
     },
     "execution_count": 23,
     "metadata": {},
     "output_type": "execute_result"
    }
   ],
   "source": [
    "try:\n",
    "    model = load_model(model_file)\n",
    "except:\n",
    "    print(\"Could not load Keras model froim {}\".format(model_file))\n",
    "    raise\n",
    "\n",
    "model_input_size = model.layers[0].input_shape[1]\n",
    "\n",
    "print(\"Model input size: {}\".format(model_input_size))"
   ]
  },
  {
   "cell_type": "code",
   "execution_count": 24,
   "metadata": {},
   "outputs": [
    {
     "data": {
      "text/plain": []
     },
     "execution_count": 24,
     "metadata": {},
     "output_type": "execute_result"
    }
   ],
   "source": [
    "predictions = np.zeros([n, len(classes)])\n",
    "resized_images = np.zeros([n, model_input_size, model_input_size, 3])"
   ]
  },
  {
   "cell_type": "code",
   "execution_count": 25,
   "metadata": {},
   "outputs": [
    {
     "data": {
      "text/plain": []
     },
     "execution_count": 25,
     "metadata": {},
     "output_type": "execute_result"
    }
   ],
   "source": [
    "browser_node.SelectFirstItem()\n",
    "\n",
    "for i in range(n):\n",
    "    image = image_node.GetImageData()\n",
    "    shape = list(image.GetDimensions())\n",
    "    shape.reverse()\n",
    "    components = image.GetNumberOfScalarComponents()\n",
    "    if components > 1:\n",
    "        shape.append(components)\n",
    "        shape.remove(1)\n",
    "    input_array = vtk.util.numpy_support.vtk_to_numpy(image.GetPointData().GetScalars()).reshape(shape)\n",
    "    resized_input_array = cv2.resize(input_array, (model_input_size, model_input_size))\n",
    "    resized_input_array = resized_input_array / (resized_input_array.max())\n",
    "    # resized_input_array = np.flip(resized_input_array, axis=0)\n",
    "    resized_images[i, :, :, :] = resized_input_array[:, :, :]\n",
    "    \n",
    "    resized_input_array = np.expand_dims(resized_input_array, axis=0)\n",
    "    prediction = model.predict(resized_input_array)\n",
    "    predictions[i, :] = prediction[:]\n",
    "    \n",
    "    maxPredictionIndex = prediction.argmax()\n",
    "    \n",
    "    browser_node.SelectNextItem()\n",
    "    slicer.app.processEvents()"
   ]
  },
  {
   "cell_type": "code",
   "execution_count": 27,
   "metadata": {},
   "outputs": [
    {
     "data": {
      "text/plain": []
     },
     "execution_count": 27,
     "metadata": {},
     "output_type": "execute_result"
    }
   ],
   "source": [
    "import os\n",
    "\n",
    "images_fullname = os.path.join(output_folder, \"resized_images\")\n",
    "pred_fullname = os.path.join(output_folder, \"predictions\")\n",
    "np.save(images_fullname, resized_images)\n",
    "np.save(pred_fullname, predictions)"
   ]
  },
  {
   "cell_type": "code",
   "execution_count": null,
   "metadata": {},
   "outputs": [],
   "source": []
  }
 ],
 "metadata": {
  "kernelspec": {
   "display_name": "Slicer 4.11",
   "language": "python",
   "name": "slicer-4.11"
  },
  "language_info": {
   "codemirror_mode": {
    "name": "ipython",
    "version": 3
   },
   "file_extension": ".py",
   "mimetype": "text/x-python",
   "name": "python",
   "nbconvert_exporter": "python",
   "pygments_lexer": "ipython3",
   "version": "2.7.13+"
  }
 },
 "nbformat": 4,
 "nbformat_minor": 2
}
